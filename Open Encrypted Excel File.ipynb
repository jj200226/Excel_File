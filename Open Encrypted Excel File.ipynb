{
 "cells": [
  {
   "cell_type": "code",
   "execution_count": 1,
   "metadata": {},
   "outputs": [],
   "source": [
    "##Install msoffcrypto-tool:\n",
    "##pip install msoffcrypto-tool"
   ]
  },
  {
   "cell_type": "code",
   "execution_count": 17,
   "metadata": {},
   "outputs": [],
   "source": [
    "import io\n",
    "\n",
    "import msoffcrypto\n",
    "import openpyxl\n",
    "from openpyxl import load_workbook\n",
    "import numpy as np\n",
    "import pandas as pd"
   ]
  },
  {
   "cell_type": "code",
   "execution_count": 18,
   "metadata": {},
   "outputs": [],
   "source": [
    "decrypted_workbook = io.BytesIO()\n",
    "\n",
    "with open('Desktop\\Final Walkthrough.xlsx', 'rb') as file:\n",
    "    office_file = msoffcrypto.OfficeFile(file)\n",
    "    office_file.load_key(password='123')\n",
    "    office_file.decrypt(decrypted_workbook)\n",
    "\n",
    "# `filename` can also be a file-like object."
   ]
  },
  {
   "cell_type": "code",
   "execution_count": 19,
   "metadata": {},
   "outputs": [],
   "source": [
    "wb = load_workbook(filename=decrypted_workbook)"
   ]
  },
  {
   "cell_type": "code",
   "execution_count": 20,
   "metadata": {},
   "outputs": [
    {
     "name": "stdout",
     "output_type": "stream",
     "text": [
      "['Sheet1', 'Electricity', 'Hilton Managaed - Trust ']\n"
     ]
    }
   ],
   "source": [
    "print(wb.sheetnames)"
   ]
  },
  {
   "cell_type": "code",
   "execution_count": 21,
   "metadata": {},
   "outputs": [],
   "source": [
    "temp = [('Electricity'), ('Hilton Managaed - Trust')]"
   ]
  },
  {
   "cell_type": "code",
   "execution_count": 22,
   "metadata": {},
   "outputs": [],
   "source": [
    "def get_ly_month_data(tab, date):\n",
    "    wb = wb = openpyxl.load_workbook(filename=decrypted_workbook, data_only=True)\n",
    "    try:\n",
    "        ws = wb[tab]\n",
    "    except KeyError:\n",
    "        return np.zeros(7-3)\n",
    "    dates = []\n",
    "    for each in list(ws[1]):\n",
    "        dates.append(each.value)\n",
    "        \n",
    "    ly_month_col = dates.index(date)\n",
    "    ly_month_data = []\n",
    "    for i in range(3,7,1):\n",
    "        ly_month_data.append(ws.cell(column = ly_month_col+1, row = i).value)\n",
    "    return np.array([0 if x==None else x for x in ly_month_data])"
   ]
  },
  {
   "cell_type": "code",
   "execution_count": 23,
   "metadata": {},
   "outputs": [
    {
     "data": {
      "text/plain": [
       "array([24.864 ,  0.    ,  0.    , 20.9568])"
      ]
     },
     "execution_count": 23,
     "metadata": {},
     "output_type": "execute_result"
    }
   ],
   "source": [
    "get_ly_month_data('Electricity', 'Apr - 20')"
   ]
  },
  {
   "cell_type": "code",
   "execution_count": 24,
   "metadata": {},
   "outputs": [],
   "source": [
    "temp = ['Electricity', 'Hilton Managaed - Trust']"
   ]
  },
  {
   "cell_type": "code",
   "execution_count": 25,
   "metadata": {},
   "outputs": [
    {
     "name": "stdout",
     "output_type": "stream",
     "text": [
      "[0. 0. 0. 0.]\n",
      "[0. 0. 0. 0.]\n",
      "   Electricity Apr-20  Hilton Apr-20\n",
      "0                 0.0            0.0\n",
      "1                 0.0            0.0\n",
      "2                 0.0            0.0\n",
      "3                 0.0            0.0\n"
     ]
    }
   ],
   "source": [
    "df_result = pd.DataFrame()\n",
    "\n",
    "for item in temp:\n",
    "    ly_month_data = get_ly_month_data(item[0], 'Apr - 20')\n",
    "    print(ly_month_data)\n",
    "    #ly_month_data_2 = get_ly_month_data(item[1], 'Apr - 20')\n",
    "    #ly_month_data_2 = get_ly_month_data('Electricity', 'Apr - 20')\n",
    "    df_result[item.split(\" \")[0]+\" Apr-20\"] = ly_month_data\n",
    "    #print(get_ly_month_data(item[0], 'Apr - 20'))\n",
    "    \n",
    "print(df_result)"
   ]
  },
  {
   "cell_type": "code",
   "execution_count": null,
   "metadata": {},
   "outputs": [],
   "source": []
  }
 ],
 "metadata": {
  "kernelspec": {
   "display_name": "Python 3",
   "language": "python",
   "name": "python3"
  },
  "language_info": {
   "codemirror_mode": {
    "name": "ipython",
    "version": 3
   },
   "file_extension": ".py",
   "mimetype": "text/x-python",
   "name": "python",
   "nbconvert_exporter": "python",
   "pygments_lexer": "ipython3",
   "version": "3.6.5"
  }
 },
 "nbformat": 4,
 "nbformat_minor": 2
}
